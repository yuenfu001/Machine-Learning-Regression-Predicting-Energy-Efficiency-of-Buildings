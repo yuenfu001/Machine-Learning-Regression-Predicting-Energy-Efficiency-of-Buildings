{
 "cells": [
  {
   "cell_type": "code",
   "execution_count": 50,
   "id": "708c3f05-922a-4122-9c64-81835eeaa15d",
   "metadata": {},
   "outputs": [],
   "source": [
    "import numpy as np, pandas as pd, matplotlib.pyplot as plt, seaborn as sns\n",
    "from sklearn.preprocessing import StandardScaler\n",
    "from sklearn.linear_model import LinearRegression, Ridge,Lasso\n",
    "from sklearn.model_selection import train_test_split as split\n",
    "from sklearn import metrics\n",
    "from sklearn.metrics import mean_absolute_error as MAE,mean_squared_error as MSE, r2_score as R2\n",
    "scaling = StandardScaler()\n",
    "LRN = LinearRegression()\n",
    "ridge = Ridge(alpha=.4)\n",
    "lasso = Lasso(alpha=0.001)\n",
    "pd.set_option(\"display.max_columns\", None)"
   ]
  },
  {
   "cell_type": "code",
   "execution_count": null,
   "id": "5adcaf77-05e6-4d9f-8fac-0146ed4b93c6",
   "metadata": {},
   "outputs": [],
   "source": [
    "df = pd.read_csv(\"https://archive.ics.uci.edu/ml/machine-learning-databases/00374/energydata_complete.csv\")"
   ]
  },
  {
   "cell_type": "code",
   "execution_count": null,
   "id": "897ef8af-a3a7-49db-96fe-e15e19dc3793",
   "metadata": {},
   "outputs": [],
   "source": [
    "df.head(2)"
   ]
  },
  {
   "cell_type": "code",
   "execution_count": null,
   "id": "8e1e19ae-db55-4b11-86c1-0ce5f623f1e2",
   "metadata": {},
   "outputs": [],
   "source": [
    "df[\"date\"] = pd.to_datetime(df.date, infer_datetime_format=True)"
   ]
  },
  {
   "cell_type": "code",
   "execution_count": null,
   "id": "e71b231d-9e2e-4338-beb7-862553728508",
   "metadata": {},
   "outputs": [],
   "source": [
    "df.info()"
   ]
  },
  {
   "cell_type": "code",
   "execution_count": null,
   "id": "7242e4d6-369b-4a7c-869d-c8c0d598dbf6",
   "metadata": {},
   "outputs": [],
   "source": [
    "df.describe()"
   ]
  },
  {
   "cell_type": "code",
   "execution_count": null,
   "id": "a6462218-bfa0-4c6d-8c7f-1de9cbfd9dcc",
   "metadata": {},
   "outputs": [],
   "source": [
    "df.isna().sum()"
   ]
  },
  {
   "cell_type": "code",
   "execution_count": null,
   "id": "e5128023-d199-4add-a404-8ff069cbea93",
   "metadata": {},
   "outputs": [],
   "source": [
    "df = df.drop(columns=[\"date\",\"lights\"])"
   ]
  },
  {
   "cell_type": "code",
   "execution_count": null,
   "id": "e6240695-8254-48e4-9588-2d797ad19130",
   "metadata": {},
   "outputs": [],
   "source": [
    "reg_df = df[[\"T2\",\"T6\"]].sample(15, random_state =70)\n",
    "reg_df1 = df[[\"T2\",\"Appliances\"]].sample(15, random_state = 60)\n",
    "reg_df2 = df[[\"T6\",\"Appliances\"]].sample(15, random_state = 42)"
   ]
  },
  {
   "cell_type": "code",
   "execution_count": null,
   "id": "9ba5ced9-4cb6-4b44-8ed9-e297ed3f85c7",
   "metadata": {},
   "outputs": [],
   "source": [
    "sns.regplot(x=\"T2\", y=\"T6\", data=reg_df)"
   ]
  },
  {
   "cell_type": "code",
   "execution_count": null,
   "id": "6aba1a95-c0f8-4bd8-82a5-f03fe47a1628",
   "metadata": {},
   "outputs": [],
   "source": [
    "sns.regplot(x=\"T2\", y=\"Appliances\", data=reg_df1)"
   ]
  },
  {
   "cell_type": "code",
   "execution_count": null,
   "id": "230d6dfd-76f5-49d3-84cb-dfd910492e9b",
   "metadata": {},
   "outputs": [],
   "source": [
    "sns.regplot(x=\"T6\", y=\"Appliances\", data=reg_df2)"
   ]
  },
  {
   "cell_type": "code",
   "execution_count": null,
   "id": "5a84875e-25ad-4d36-81b9-b669f1b397a6",
   "metadata": {},
   "outputs": [],
   "source": []
  },
  {
   "cell_type": "code",
   "execution_count": null,
   "id": "1a9c40af-3ded-4c65-a710-432fdb76f2ef",
   "metadata": {},
   "outputs": [],
   "source": [
    "refined_df = pd.DataFrame(scaling.fit_transform(df), columns=df.columns)"
   ]
  },
  {
   "cell_type": "code",
   "execution_count": null,
   "id": "664376a5-5e83-44d6-93a4-218bf5180e05",
   "metadata": {},
   "outputs": [],
   "source": [
    "refined_df.head(2)"
   ]
  },
  {
   "cell_type": "code",
   "execution_count": null,
   "id": "f0cfb497-7a55-43ef-885e-a4393c05cd09",
   "metadata": {},
   "outputs": [],
   "source": [
    "defined_df = refined_df.drop(columns='Appliances')"
   ]
  },
  {
   "cell_type": "code",
   "execution_count": null,
   "id": "eba9ea5d-5636-44cf-b9dc-a4187bdc7414",
   "metadata": {},
   "outputs": [],
   "source": [
    "defined_df.head()"
   ]
  },
  {
   "cell_type": "code",
   "execution_count": null,
   "id": "40c9d2e1-d3e9-45d3-b1d5-c93448a63750",
   "metadata": {},
   "outputs": [],
   "source": [
    "dropped_df = refined_df.Appliances"
   ]
  },
  {
   "cell_type": "code",
   "execution_count": null,
   "id": "bb4c779b-72fe-4675-95a4-5d529d94c213",
   "metadata": {},
   "outputs": [],
   "source": [
    "dropped_df"
   ]
  },
  {
   "cell_type": "code",
   "execution_count": null,
   "id": "1d721488-f065-47e4-9f44-de5f2418ce06",
   "metadata": {},
   "outputs": [],
   "source": [
    "x_train, x_test, y_train, y_test = split(defined_df.T2.values.reshape(-1,1),defined_df.T6, test_size=.3,random_state=35)"
   ]
  },
  {
   "cell_type": "code",
   "execution_count": null,
   "id": "7fb4ad36-267d-471c-9617-aac28b50c690",
   "metadata": {},
   "outputs": [],
   "source": [
    "modelling = LRN.fit(x_train,y_train)"
   ]
  },
  {
   "cell_type": "code",
   "execution_count": null,
   "id": "7a337a3e-b732-485e-9344-ec558841c88c",
   "metadata": {},
   "outputs": [],
   "source": [
    "modelling"
   ]
  },
  {
   "cell_type": "code",
   "execution_count": null,
   "id": "890a0ffa-1264-4c31-a170-711b034d5dfd",
   "metadata": {},
   "outputs": [],
   "source": [
    "pred_values = LRN.predict(x_test)"
   ]
  },
  {
   "cell_type": "code",
   "execution_count": null,
   "id": "0a5665a5-f93e-4d78-8e5c-c6e782a40075",
   "metadata": {},
   "outputs": [],
   "source": [
    "LRN.score(x_test,y_test)"
   ]
  },
  {
   "cell_type": "code",
   "execution_count": null,
   "id": "c40521af-20c4-4cfa-9598-2b6aa2bbef31",
   "metadata": {},
   "outputs": [],
   "source": [
    "mae = MAE(y_test,pred_values)\n",
    "mae"
   ]
  },
  {
   "cell_type": "code",
   "execution_count": null,
   "id": "0a100808-725b-4a0f-8f45-bcb02e354f09",
   "metadata": {},
   "outputs": [],
   "source": [
    "rmse = np.sqrt(MSE(y_test,pred_values))\n",
    "rmse"
   ]
  },
  {
   "cell_type": "code",
   "execution_count": null,
   "id": "8e2be060-d7aa-499c-9403-f945c8edad5b",
   "metadata": {},
   "outputs": [],
   "source": [
    "r2 = R2(y_test,pred_values)\n",
    "r2"
   ]
  },
  {
   "cell_type": "code",
   "execution_count": null,
   "id": "7495d370-60ef-4502-8334-68b995cd6a00",
   "metadata": {},
   "outputs": [],
   "source": [
    "coefficient = metrics.r2_score(y_test,pred_values)\n",
    "coefficient"
   ]
  },
  {
   "cell_type": "code",
   "execution_count": null,
   "id": "294303ce-3830-43f3-95ba-4ded2ff0a129",
   "metadata": {},
   "outputs": [],
   "source": [
    "defined_df = refined_df.drop(columns='Appliances')\n",
    "dropped_df = refined_df.Appliances\n",
    "x1_train, x1_test, y1_train, y1_test = split(defined_df, dropped_df, test_size=0.3, random_state=42)\n",
    "LM1 = LinearRegression()\n",
    "LM1.fit(x1_train, y1_train)"
   ]
  },
  {
   "cell_type": "code",
   "execution_count": null,
   "id": "3eb546f1-e6e8-497b-93d3-5ec66cff8610",
   "metadata": {},
   "outputs": [],
   "source": [
    "ridge.fit(x1_train, y1_train)"
   ]
  },
  {
   "cell_type": "code",
   "execution_count": null,
   "id": "30f6ce41-d040-4dec-909e-dbdf1cc3d07d",
   "metadata": {},
   "outputs": [],
   "source": [
    "lasso.fit(x1_train,y1_train)"
   ]
  },
  {
   "cell_type": "code",
   "execution_count": null,
   "id": "d13806df-562b-494a-ad63-d01646566469",
   "metadata": {},
   "outputs": [],
   "source": [
    "predicted_val = LM1.predict(x1_test)"
   ]
  },
  {
   "cell_type": "code",
   "execution_count": null,
   "id": "41a49406-9e12-49b5-8162-87392c3d2dd2",
   "metadata": {},
   "outputs": [],
   "source": [
    "def get_weights_df(model, feat, col_name):\n",
    "    weights = pd.Series(model.coef_, feat.columns).sort_values()\n",
    "    weights_df = pd.DataFrame(weights).reset_index()\n",
    "    weights_df.columns = [\"Features\", col_name]\n",
    "    weights_df[col_name].round(3)\n",
    "    return weights_df"
   ]
  },
  {
   "cell_type": "code",
   "execution_count": null,
   "id": "5b9ed72b-e045-4b90-bd75-673ba3f32807",
   "metadata": {},
   "outputs": [],
   "source": [
    "linear_model = get_weights_df(LM1, x1_train , 'Linear_Model_Weight')\n",
    "linear_model.sort_values(by='Linear_Model_Weight', ascending=True)"
   ]
  },
  {
   "cell_type": "code",
   "execution_count": null,
   "id": "e73d38c3-5cca-4fb0-914c-b9f094d64306",
   "metadata": {},
   "outputs": [],
   "source": [
    "ridge_reg = Ridge(alpha=0.4)\n",
    "ridge_reg.fit(x1_train, y1_train)"
   ]
  },
  {
   "cell_type": "code",
   "execution_count": null,
   "id": "4af01e3e-8b1d-471c-90cc-c79eb61c1c19",
   "metadata": {},
   "outputs": [],
   "source": [
    "lasso_reg = Lasso(alpha=0.001)\n",
    "lasso_reg.fit(x1_train, y1_train)"
   ]
  },
  {
   "cell_type": "code",
   "execution_count": null,
   "id": "b7990b5c-e9ab-437c-b8a1-e0282e57bd62",
   "metadata": {},
   "outputs": [],
   "source": [
    "predicted_values = ridge_reg.predict(x1_test)"
   ]
  },
  {
   "cell_type": "code",
   "execution_count": null,
   "id": "f21d0607-d481-44c0-af8c-cc42186b2ee4",
   "metadata": {},
   "outputs": [],
   "source": [
    "RMSE_ridge = round(np.sqrt(metrics.mean_squared_error(y1_test, predicted_values)),3)\n",
    "RMSE_linear = round(np.sqrt(metrics.mean_squared_error(y1_test, predicted_val)),3)"
   ]
  },
  {
   "cell_type": "code",
   "execution_count": null,
   "id": "8f483598-60aa-4269-a371-b8ede231d648",
   "metadata": {},
   "outputs": [],
   "source": [
    "RMSE_ridge"
   ]
  },
  {
   "cell_type": "code",
   "execution_count": null,
   "id": "a5877f69-3912-47fa-b935-d509a728a522",
   "metadata": {},
   "outputs": [],
   "source": [
    "RMSE_linear"
   ]
  },
  {
   "cell_type": "code",
   "execution_count": null,
   "id": "7924562c-f7c5-40e0-a28f-c55a0e15877b",
   "metadata": {},
   "outputs": [],
   "source": [
    "lasso_weights = get_weights_df(lasso_reg, x1_train,\"Lasso_Model_Weights\")\n",
    "lasso_weights[(lasso_weights[\"Lasso_Model_Weights\"] < 0) | (lasso_weights[\"Lasso_Model_Weights\"] > 0)].count()"
   ]
  },
  {
   "cell_type": "code",
   "execution_count": null,
   "id": "b485abf0-29d0-4d9b-a650-b2b62c354327",
   "metadata": {},
   "outputs": [],
   "source": [
    "predict1 = lasso_reg.predict(x1_test)\n",
    "RMSE_lasso = round(np.sqrt(metrics.mean_squared_error(y1_test, predict1)),3)"
   ]
  },
  {
   "cell_type": "code",
   "execution_count": null,
   "id": "468633d3-e8d5-481c-9990-716e32279059",
   "metadata": {},
   "outputs": [],
   "source": [
    "RMSE_lasso"
   ]
  }
 ],
 "metadata": {
  "kernelspec": {
   "display_name": "Python 3",
   "language": "python",
   "name": "python3"
  },
  "language_info": {
   "codemirror_mode": {
    "name": "ipython",
    "version": 3
   },
   "file_extension": ".py",
   "mimetype": "text/x-python",
   "name": "python",
   "nbconvert_exporter": "python",
   "pygments_lexer": "ipython3",
   "version": "3.8.8"
  }
 },
 "nbformat": 4,
 "nbformat_minor": 5
}
