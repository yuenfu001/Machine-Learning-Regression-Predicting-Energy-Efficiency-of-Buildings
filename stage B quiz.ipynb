{
 "cells": [
  {
   "cell_type": "code",
   "execution_count": 50,
   "id": "708c3f05-922a-4122-9c64-81835eeaa15d",
   "metadata": {},
   "outputs": [],
   "source": [
    "import numpy as np, pandas as pd, matplotlib.pyplot as plt, seaborn as sns\n",
    "from sklearn.preprocessing import StandardScaler\n",
    "from sklearn.linear_model import LinearRegression, Ridge,Lasso\n",
    "from sklearn.model_selection import train_test_split as split\n",
    "from sklearn import metrics\n",
    "from sklearn.metrics import mean_absolute_error as MAE,mean_squared_error as MSE, r2_score as R2\n",
    "scaling = StandardScaler()\n",
    "LRN = LinearRegression()\n",
    "ridge = Ridge(alpha=.4)\n",
    "lasso = Lasso(alpha=0.001)\n",
    "pd.set_option(\"display.max_columns\", None)"
   ]
  },
  {
   "cell_type": "code",
   "execution_count": 51,
   "id": "5adcaf77-05e6-4d9f-8fac-0146ed4b93c6",
   "metadata": {},
   "outputs": [],
   "source": [
    "df = pd.read_csv(\"https://archive.ics.uci.edu/ml/machine-learning-databases/00374/energydata_complete.csv\")"
   ]
  },
  {
   "cell_type": "code",
   "execution_count": 52,
   "id": "897ef8af-a3a7-49db-96fe-e15e19dc3793",
   "metadata": {},
   "outputs": [
    {
     "data": {
      "text/html": [
       "<div>\n",
       "<style scoped>\n",
       "    .dataframe tbody tr th:only-of-type {\n",
       "        vertical-align: middle;\n",
       "    }\n",
       "\n",
       "    .dataframe tbody tr th {\n",
       "        vertical-align: top;\n",
       "    }\n",
       "\n",
       "    .dataframe thead th {\n",
       "        text-align: right;\n",
       "    }\n",
       "</style>\n",
       "<table border=\"1\" class=\"dataframe\">\n",
       "  <thead>\n",
       "    <tr style=\"text-align: right;\">\n",
       "      <th></th>\n",
       "      <th>date</th>\n",
       "      <th>Appliances</th>\n",
       "      <th>lights</th>\n",
       "      <th>T1</th>\n",
       "      <th>RH_1</th>\n",
       "      <th>T2</th>\n",
       "      <th>RH_2</th>\n",
       "      <th>T3</th>\n",
       "      <th>RH_3</th>\n",
       "      <th>T4</th>\n",
       "      <th>RH_4</th>\n",
       "      <th>T5</th>\n",
       "      <th>RH_5</th>\n",
       "      <th>T6</th>\n",
       "      <th>RH_6</th>\n",
       "      <th>T7</th>\n",
       "      <th>RH_7</th>\n",
       "      <th>T8</th>\n",
       "      <th>RH_8</th>\n",
       "      <th>T9</th>\n",
       "      <th>RH_9</th>\n",
       "      <th>T_out</th>\n",
       "      <th>Press_mm_hg</th>\n",
       "      <th>RH_out</th>\n",
       "      <th>Windspeed</th>\n",
       "      <th>Visibility</th>\n",
       "      <th>Tdewpoint</th>\n",
       "      <th>rv1</th>\n",
       "      <th>rv2</th>\n",
       "    </tr>\n",
       "  </thead>\n",
       "  <tbody>\n",
       "    <tr>\n",
       "      <th>0</th>\n",
       "      <td>2016-01-11 17:00:00</td>\n",
       "      <td>60</td>\n",
       "      <td>30</td>\n",
       "      <td>19.89</td>\n",
       "      <td>47.596667</td>\n",
       "      <td>19.2</td>\n",
       "      <td>44.7900</td>\n",
       "      <td>19.79</td>\n",
       "      <td>44.73</td>\n",
       "      <td>19.0</td>\n",
       "      <td>45.566667</td>\n",
       "      <td>17.166667</td>\n",
       "      <td>55.2</td>\n",
       "      <td>7.026667</td>\n",
       "      <td>84.256667</td>\n",
       "      <td>17.2</td>\n",
       "      <td>41.626667</td>\n",
       "      <td>18.2</td>\n",
       "      <td>48.900000</td>\n",
       "      <td>17.033333</td>\n",
       "      <td>45.53</td>\n",
       "      <td>6.600000</td>\n",
       "      <td>733.5</td>\n",
       "      <td>92.0</td>\n",
       "      <td>7.000000</td>\n",
       "      <td>63.000000</td>\n",
       "      <td>5.3</td>\n",
       "      <td>13.275433</td>\n",
       "      <td>13.275433</td>\n",
       "    </tr>\n",
       "    <tr>\n",
       "      <th>1</th>\n",
       "      <td>2016-01-11 17:10:00</td>\n",
       "      <td>60</td>\n",
       "      <td>30</td>\n",
       "      <td>19.89</td>\n",
       "      <td>46.693333</td>\n",
       "      <td>19.2</td>\n",
       "      <td>44.7225</td>\n",
       "      <td>19.79</td>\n",
       "      <td>44.79</td>\n",
       "      <td>19.0</td>\n",
       "      <td>45.992500</td>\n",
       "      <td>17.166667</td>\n",
       "      <td>55.2</td>\n",
       "      <td>6.833333</td>\n",
       "      <td>84.063333</td>\n",
       "      <td>17.2</td>\n",
       "      <td>41.560000</td>\n",
       "      <td>18.2</td>\n",
       "      <td>48.863333</td>\n",
       "      <td>17.066667</td>\n",
       "      <td>45.56</td>\n",
       "      <td>6.483333</td>\n",
       "      <td>733.6</td>\n",
       "      <td>92.0</td>\n",
       "      <td>6.666667</td>\n",
       "      <td>59.166667</td>\n",
       "      <td>5.2</td>\n",
       "      <td>18.606195</td>\n",
       "      <td>18.606195</td>\n",
       "    </tr>\n",
       "  </tbody>\n",
       "</table>\n",
       "</div>"
      ],
      "text/plain": [
       "                  date  Appliances  lights     T1       RH_1    T2     RH_2  \\\n",
       "0  2016-01-11 17:00:00          60      30  19.89  47.596667  19.2  44.7900   \n",
       "1  2016-01-11 17:10:00          60      30  19.89  46.693333  19.2  44.7225   \n",
       "\n",
       "      T3   RH_3    T4       RH_4         T5  RH_5        T6       RH_6    T7  \\\n",
       "0  19.79  44.73  19.0  45.566667  17.166667  55.2  7.026667  84.256667  17.2   \n",
       "1  19.79  44.79  19.0  45.992500  17.166667  55.2  6.833333  84.063333  17.2   \n",
       "\n",
       "        RH_7    T8       RH_8         T9   RH_9     T_out  Press_mm_hg  \\\n",
       "0  41.626667  18.2  48.900000  17.033333  45.53  6.600000        733.5   \n",
       "1  41.560000  18.2  48.863333  17.066667  45.56  6.483333        733.6   \n",
       "\n",
       "   RH_out  Windspeed  Visibility  Tdewpoint        rv1        rv2  \n",
       "0    92.0   7.000000   63.000000        5.3  13.275433  13.275433  \n",
       "1    92.0   6.666667   59.166667        5.2  18.606195  18.606195  "
      ]
     },
     "execution_count": 52,
     "metadata": {},
     "output_type": "execute_result"
    }
   ],
   "source": [
    "df.head(2)"
   ]
  },
  {
   "cell_type": "code",
   "execution_count": 53,
   "id": "8e1e19ae-db55-4b11-86c1-0ce5f623f1e2",
   "metadata": {},
   "outputs": [],
   "source": [
    "df[\"date\"] = pd.to_datetime(df.date, infer_datetime_format=True)"
   ]
  },
  {
   "cell_type": "code",
   "execution_count": 54,
   "id": "e71b231d-9e2e-4338-beb7-862553728508",
   "metadata": {},
   "outputs": [
    {
     "name": "stdout",
     "output_type": "stream",
     "text": [
      "<class 'pandas.core.frame.DataFrame'>\n",
      "RangeIndex: 19735 entries, 0 to 19734\n",
      "Data columns (total 29 columns):\n",
      " #   Column       Non-Null Count  Dtype         \n",
      "---  ------       --------------  -----         \n",
      " 0   date         19735 non-null  datetime64[ns]\n",
      " 1   Appliances   19735 non-null  int64         \n",
      " 2   lights       19735 non-null  int64         \n",
      " 3   T1           19735 non-null  float64       \n",
      " 4   RH_1         19735 non-null  float64       \n",
      " 5   T2           19735 non-null  float64       \n",
      " 6   RH_2         19735 non-null  float64       \n",
      " 7   T3           19735 non-null  float64       \n",
      " 8   RH_3         19735 non-null  float64       \n",
      " 9   T4           19735 non-null  float64       \n",
      " 10  RH_4         19735 non-null  float64       \n",
      " 11  T5           19735 non-null  float64       \n",
      " 12  RH_5         19735 non-null  float64       \n",
      " 13  T6           19735 non-null  float64       \n",
      " 14  RH_6         19735 non-null  float64       \n",
      " 15  T7           19735 non-null  float64       \n",
      " 16  RH_7         19735 non-null  float64       \n",
      " 17  T8           19735 non-null  float64       \n",
      " 18  RH_8         19735 non-null  float64       \n",
      " 19  T9           19735 non-null  float64       \n",
      " 20  RH_9         19735 non-null  float64       \n",
      " 21  T_out        19735 non-null  float64       \n",
      " 22  Press_mm_hg  19735 non-null  float64       \n",
      " 23  RH_out       19735 non-null  float64       \n",
      " 24  Windspeed    19735 non-null  float64       \n",
      " 25  Visibility   19735 non-null  float64       \n",
      " 26  Tdewpoint    19735 non-null  float64       \n",
      " 27  rv1          19735 non-null  float64       \n",
      " 28  rv2          19735 non-null  float64       \n",
      "dtypes: datetime64[ns](1), float64(26), int64(2)\n",
      "memory usage: 4.4 MB\n"
     ]
    }
   ],
   "source": [
    "df.info()"
   ]
  },
  {
   "cell_type": "code",
   "execution_count": 55,
   "id": "7242e4d6-369b-4a7c-869d-c8c0d598dbf6",
   "metadata": {},
   "outputs": [
    {
     "data": {
      "text/html": [
       "<div>\n",
       "<style scoped>\n",
       "    .dataframe tbody tr th:only-of-type {\n",
       "        vertical-align: middle;\n",
       "    }\n",
       "\n",
       "    .dataframe tbody tr th {\n",
       "        vertical-align: top;\n",
       "    }\n",
       "\n",
       "    .dataframe thead th {\n",
       "        text-align: right;\n",
       "    }\n",
       "</style>\n",
       "<table border=\"1\" class=\"dataframe\">\n",
       "  <thead>\n",
       "    <tr style=\"text-align: right;\">\n",
       "      <th></th>\n",
       "      <th>Appliances</th>\n",
       "      <th>lights</th>\n",
       "      <th>T1</th>\n",
       "      <th>RH_1</th>\n",
       "      <th>T2</th>\n",
       "      <th>RH_2</th>\n",
       "      <th>T3</th>\n",
       "      <th>RH_3</th>\n",
       "      <th>T4</th>\n",
       "      <th>RH_4</th>\n",
       "      <th>T5</th>\n",
       "      <th>RH_5</th>\n",
       "      <th>T6</th>\n",
       "      <th>RH_6</th>\n",
       "      <th>T7</th>\n",
       "      <th>RH_7</th>\n",
       "      <th>T8</th>\n",
       "      <th>RH_8</th>\n",
       "      <th>T9</th>\n",
       "      <th>RH_9</th>\n",
       "      <th>T_out</th>\n",
       "      <th>Press_mm_hg</th>\n",
       "      <th>RH_out</th>\n",
       "      <th>Windspeed</th>\n",
       "      <th>Visibility</th>\n",
       "      <th>Tdewpoint</th>\n",
       "      <th>rv1</th>\n",
       "      <th>rv2</th>\n",
       "    </tr>\n",
       "  </thead>\n",
       "  <tbody>\n",
       "    <tr>\n",
       "      <th>count</th>\n",
       "      <td>19735.000000</td>\n",
       "      <td>19735.000000</td>\n",
       "      <td>19735.000000</td>\n",
       "      <td>19735.000000</td>\n",
       "      <td>19735.000000</td>\n",
       "      <td>19735.000000</td>\n",
       "      <td>19735.000000</td>\n",
       "      <td>19735.000000</td>\n",
       "      <td>19735.000000</td>\n",
       "      <td>19735.000000</td>\n",
       "      <td>19735.000000</td>\n",
       "      <td>19735.000000</td>\n",
       "      <td>19735.000000</td>\n",
       "      <td>19735.000000</td>\n",
       "      <td>19735.000000</td>\n",
       "      <td>19735.000000</td>\n",
       "      <td>19735.000000</td>\n",
       "      <td>19735.000000</td>\n",
       "      <td>19735.000000</td>\n",
       "      <td>19735.000000</td>\n",
       "      <td>19735.000000</td>\n",
       "      <td>19735.000000</td>\n",
       "      <td>19735.000000</td>\n",
       "      <td>19735.000000</td>\n",
       "      <td>19735.000000</td>\n",
       "      <td>19735.000000</td>\n",
       "      <td>19735.000000</td>\n",
       "      <td>19735.000000</td>\n",
       "    </tr>\n",
       "    <tr>\n",
       "      <th>mean</th>\n",
       "      <td>97.694958</td>\n",
       "      <td>3.801875</td>\n",
       "      <td>21.686571</td>\n",
       "      <td>40.259739</td>\n",
       "      <td>20.341219</td>\n",
       "      <td>40.420420</td>\n",
       "      <td>22.267611</td>\n",
       "      <td>39.242500</td>\n",
       "      <td>20.855335</td>\n",
       "      <td>39.026904</td>\n",
       "      <td>19.592106</td>\n",
       "      <td>50.949283</td>\n",
       "      <td>7.910939</td>\n",
       "      <td>54.609083</td>\n",
       "      <td>20.267106</td>\n",
       "      <td>35.388200</td>\n",
       "      <td>22.029107</td>\n",
       "      <td>42.936165</td>\n",
       "      <td>19.485828</td>\n",
       "      <td>41.552401</td>\n",
       "      <td>7.411665</td>\n",
       "      <td>755.522602</td>\n",
       "      <td>79.750418</td>\n",
       "      <td>4.039752</td>\n",
       "      <td>38.330834</td>\n",
       "      <td>3.760707</td>\n",
       "      <td>24.988033</td>\n",
       "      <td>24.988033</td>\n",
       "    </tr>\n",
       "    <tr>\n",
       "      <th>std</th>\n",
       "      <td>102.524891</td>\n",
       "      <td>7.935988</td>\n",
       "      <td>1.606066</td>\n",
       "      <td>3.979299</td>\n",
       "      <td>2.192974</td>\n",
       "      <td>4.069813</td>\n",
       "      <td>2.006111</td>\n",
       "      <td>3.254576</td>\n",
       "      <td>2.042884</td>\n",
       "      <td>4.341321</td>\n",
       "      <td>1.844623</td>\n",
       "      <td>9.022034</td>\n",
       "      <td>6.090347</td>\n",
       "      <td>31.149806</td>\n",
       "      <td>2.109993</td>\n",
       "      <td>5.114208</td>\n",
       "      <td>1.956162</td>\n",
       "      <td>5.224361</td>\n",
       "      <td>2.014712</td>\n",
       "      <td>4.151497</td>\n",
       "      <td>5.317409</td>\n",
       "      <td>7.399441</td>\n",
       "      <td>14.901088</td>\n",
       "      <td>2.451221</td>\n",
       "      <td>11.794719</td>\n",
       "      <td>4.194648</td>\n",
       "      <td>14.496634</td>\n",
       "      <td>14.496634</td>\n",
       "    </tr>\n",
       "    <tr>\n",
       "      <th>min</th>\n",
       "      <td>10.000000</td>\n",
       "      <td>0.000000</td>\n",
       "      <td>16.790000</td>\n",
       "      <td>27.023333</td>\n",
       "      <td>16.100000</td>\n",
       "      <td>20.463333</td>\n",
       "      <td>17.200000</td>\n",
       "      <td>28.766667</td>\n",
       "      <td>15.100000</td>\n",
       "      <td>27.660000</td>\n",
       "      <td>15.330000</td>\n",
       "      <td>29.815000</td>\n",
       "      <td>-6.065000</td>\n",
       "      <td>1.000000</td>\n",
       "      <td>15.390000</td>\n",
       "      <td>23.200000</td>\n",
       "      <td>16.306667</td>\n",
       "      <td>29.600000</td>\n",
       "      <td>14.890000</td>\n",
       "      <td>29.166667</td>\n",
       "      <td>-5.000000</td>\n",
       "      <td>729.300000</td>\n",
       "      <td>24.000000</td>\n",
       "      <td>0.000000</td>\n",
       "      <td>1.000000</td>\n",
       "      <td>-6.600000</td>\n",
       "      <td>0.005322</td>\n",
       "      <td>0.005322</td>\n",
       "    </tr>\n",
       "    <tr>\n",
       "      <th>25%</th>\n",
       "      <td>50.000000</td>\n",
       "      <td>0.000000</td>\n",
       "      <td>20.760000</td>\n",
       "      <td>37.333333</td>\n",
       "      <td>18.790000</td>\n",
       "      <td>37.900000</td>\n",
       "      <td>20.790000</td>\n",
       "      <td>36.900000</td>\n",
       "      <td>19.530000</td>\n",
       "      <td>35.530000</td>\n",
       "      <td>18.277500</td>\n",
       "      <td>45.400000</td>\n",
       "      <td>3.626667</td>\n",
       "      <td>30.025000</td>\n",
       "      <td>18.700000</td>\n",
       "      <td>31.500000</td>\n",
       "      <td>20.790000</td>\n",
       "      <td>39.066667</td>\n",
       "      <td>18.000000</td>\n",
       "      <td>38.500000</td>\n",
       "      <td>3.666667</td>\n",
       "      <td>750.933333</td>\n",
       "      <td>70.333333</td>\n",
       "      <td>2.000000</td>\n",
       "      <td>29.000000</td>\n",
       "      <td>0.900000</td>\n",
       "      <td>12.497889</td>\n",
       "      <td>12.497889</td>\n",
       "    </tr>\n",
       "    <tr>\n",
       "      <th>50%</th>\n",
       "      <td>60.000000</td>\n",
       "      <td>0.000000</td>\n",
       "      <td>21.600000</td>\n",
       "      <td>39.656667</td>\n",
       "      <td>20.000000</td>\n",
       "      <td>40.500000</td>\n",
       "      <td>22.100000</td>\n",
       "      <td>38.530000</td>\n",
       "      <td>20.666667</td>\n",
       "      <td>38.400000</td>\n",
       "      <td>19.390000</td>\n",
       "      <td>49.090000</td>\n",
       "      <td>7.300000</td>\n",
       "      <td>55.290000</td>\n",
       "      <td>20.033333</td>\n",
       "      <td>34.863333</td>\n",
       "      <td>22.100000</td>\n",
       "      <td>42.375000</td>\n",
       "      <td>19.390000</td>\n",
       "      <td>40.900000</td>\n",
       "      <td>6.916667</td>\n",
       "      <td>756.100000</td>\n",
       "      <td>83.666667</td>\n",
       "      <td>3.666667</td>\n",
       "      <td>40.000000</td>\n",
       "      <td>3.433333</td>\n",
       "      <td>24.897653</td>\n",
       "      <td>24.897653</td>\n",
       "    </tr>\n",
       "    <tr>\n",
       "      <th>75%</th>\n",
       "      <td>100.000000</td>\n",
       "      <td>0.000000</td>\n",
       "      <td>22.600000</td>\n",
       "      <td>43.066667</td>\n",
       "      <td>21.500000</td>\n",
       "      <td>43.260000</td>\n",
       "      <td>23.290000</td>\n",
       "      <td>41.760000</td>\n",
       "      <td>22.100000</td>\n",
       "      <td>42.156667</td>\n",
       "      <td>20.619643</td>\n",
       "      <td>53.663333</td>\n",
       "      <td>11.256000</td>\n",
       "      <td>83.226667</td>\n",
       "      <td>21.600000</td>\n",
       "      <td>39.000000</td>\n",
       "      <td>23.390000</td>\n",
       "      <td>46.536000</td>\n",
       "      <td>20.600000</td>\n",
       "      <td>44.338095</td>\n",
       "      <td>10.408333</td>\n",
       "      <td>760.933333</td>\n",
       "      <td>91.666667</td>\n",
       "      <td>5.500000</td>\n",
       "      <td>40.000000</td>\n",
       "      <td>6.566667</td>\n",
       "      <td>37.583769</td>\n",
       "      <td>37.583769</td>\n",
       "    </tr>\n",
       "    <tr>\n",
       "      <th>max</th>\n",
       "      <td>1080.000000</td>\n",
       "      <td>70.000000</td>\n",
       "      <td>26.260000</td>\n",
       "      <td>63.360000</td>\n",
       "      <td>29.856667</td>\n",
       "      <td>56.026667</td>\n",
       "      <td>29.236000</td>\n",
       "      <td>50.163333</td>\n",
       "      <td>26.200000</td>\n",
       "      <td>51.090000</td>\n",
       "      <td>25.795000</td>\n",
       "      <td>96.321667</td>\n",
       "      <td>28.290000</td>\n",
       "      <td>99.900000</td>\n",
       "      <td>26.000000</td>\n",
       "      <td>51.400000</td>\n",
       "      <td>27.230000</td>\n",
       "      <td>58.780000</td>\n",
       "      <td>24.500000</td>\n",
       "      <td>53.326667</td>\n",
       "      <td>26.100000</td>\n",
       "      <td>772.300000</td>\n",
       "      <td>100.000000</td>\n",
       "      <td>14.000000</td>\n",
       "      <td>66.000000</td>\n",
       "      <td>15.500000</td>\n",
       "      <td>49.996530</td>\n",
       "      <td>49.996530</td>\n",
       "    </tr>\n",
       "  </tbody>\n",
       "</table>\n",
       "</div>"
      ],
      "text/plain": [
       "         Appliances        lights            T1          RH_1            T2  \\\n",
       "count  19735.000000  19735.000000  19735.000000  19735.000000  19735.000000   \n",
       "mean      97.694958      3.801875     21.686571     40.259739     20.341219   \n",
       "std      102.524891      7.935988      1.606066      3.979299      2.192974   \n",
       "min       10.000000      0.000000     16.790000     27.023333     16.100000   \n",
       "25%       50.000000      0.000000     20.760000     37.333333     18.790000   \n",
       "50%       60.000000      0.000000     21.600000     39.656667     20.000000   \n",
       "75%      100.000000      0.000000     22.600000     43.066667     21.500000   \n",
       "max     1080.000000     70.000000     26.260000     63.360000     29.856667   \n",
       "\n",
       "               RH_2            T3          RH_3            T4          RH_4  \\\n",
       "count  19735.000000  19735.000000  19735.000000  19735.000000  19735.000000   \n",
       "mean      40.420420     22.267611     39.242500     20.855335     39.026904   \n",
       "std        4.069813      2.006111      3.254576      2.042884      4.341321   \n",
       "min       20.463333     17.200000     28.766667     15.100000     27.660000   \n",
       "25%       37.900000     20.790000     36.900000     19.530000     35.530000   \n",
       "50%       40.500000     22.100000     38.530000     20.666667     38.400000   \n",
       "75%       43.260000     23.290000     41.760000     22.100000     42.156667   \n",
       "max       56.026667     29.236000     50.163333     26.200000     51.090000   \n",
       "\n",
       "                 T5          RH_5            T6          RH_6            T7  \\\n",
       "count  19735.000000  19735.000000  19735.000000  19735.000000  19735.000000   \n",
       "mean      19.592106     50.949283      7.910939     54.609083     20.267106   \n",
       "std        1.844623      9.022034      6.090347     31.149806      2.109993   \n",
       "min       15.330000     29.815000     -6.065000      1.000000     15.390000   \n",
       "25%       18.277500     45.400000      3.626667     30.025000     18.700000   \n",
       "50%       19.390000     49.090000      7.300000     55.290000     20.033333   \n",
       "75%       20.619643     53.663333     11.256000     83.226667     21.600000   \n",
       "max       25.795000     96.321667     28.290000     99.900000     26.000000   \n",
       "\n",
       "               RH_7            T8          RH_8            T9          RH_9  \\\n",
       "count  19735.000000  19735.000000  19735.000000  19735.000000  19735.000000   \n",
       "mean      35.388200     22.029107     42.936165     19.485828     41.552401   \n",
       "std        5.114208      1.956162      5.224361      2.014712      4.151497   \n",
       "min       23.200000     16.306667     29.600000     14.890000     29.166667   \n",
       "25%       31.500000     20.790000     39.066667     18.000000     38.500000   \n",
       "50%       34.863333     22.100000     42.375000     19.390000     40.900000   \n",
       "75%       39.000000     23.390000     46.536000     20.600000     44.338095   \n",
       "max       51.400000     27.230000     58.780000     24.500000     53.326667   \n",
       "\n",
       "              T_out   Press_mm_hg        RH_out     Windspeed    Visibility  \\\n",
       "count  19735.000000  19735.000000  19735.000000  19735.000000  19735.000000   \n",
       "mean       7.411665    755.522602     79.750418      4.039752     38.330834   \n",
       "std        5.317409      7.399441     14.901088      2.451221     11.794719   \n",
       "min       -5.000000    729.300000     24.000000      0.000000      1.000000   \n",
       "25%        3.666667    750.933333     70.333333      2.000000     29.000000   \n",
       "50%        6.916667    756.100000     83.666667      3.666667     40.000000   \n",
       "75%       10.408333    760.933333     91.666667      5.500000     40.000000   \n",
       "max       26.100000    772.300000    100.000000     14.000000     66.000000   \n",
       "\n",
       "          Tdewpoint           rv1           rv2  \n",
       "count  19735.000000  19735.000000  19735.000000  \n",
       "mean       3.760707     24.988033     24.988033  \n",
       "std        4.194648     14.496634     14.496634  \n",
       "min       -6.600000      0.005322      0.005322  \n",
       "25%        0.900000     12.497889     12.497889  \n",
       "50%        3.433333     24.897653     24.897653  \n",
       "75%        6.566667     37.583769     37.583769  \n",
       "max       15.500000     49.996530     49.996530  "
      ]
     },
     "execution_count": 55,
     "metadata": {},
     "output_type": "execute_result"
    }
   ],
   "source": [
    "df.describe()"
   ]
  },
  {
   "cell_type": "code",
   "execution_count": 56,
   "id": "a6462218-bfa0-4c6d-8c7f-1de9cbfd9dcc",
   "metadata": {},
   "outputs": [
    {
     "data": {
      "text/plain": [
       "date           0\n",
       "Appliances     0\n",
       "lights         0\n",
       "T1             0\n",
       "RH_1           0\n",
       "T2             0\n",
       "RH_2           0\n",
       "T3             0\n",
       "RH_3           0\n",
       "T4             0\n",
       "RH_4           0\n",
       "T5             0\n",
       "RH_5           0\n",
       "T6             0\n",
       "RH_6           0\n",
       "T7             0\n",
       "RH_7           0\n",
       "T8             0\n",
       "RH_8           0\n",
       "T9             0\n",
       "RH_9           0\n",
       "T_out          0\n",
       "Press_mm_hg    0\n",
       "RH_out         0\n",
       "Windspeed      0\n",
       "Visibility     0\n",
       "Tdewpoint      0\n",
       "rv1            0\n",
       "rv2            0\n",
       "dtype: int64"
      ]
     },
     "execution_count": 56,
     "metadata": {},
     "output_type": "execute_result"
    }
   ],
   "source": [
    "df.isna().sum()"
   ]
  },
  {
   "cell_type": "code",
   "execution_count": 57,
   "id": "e5128023-d199-4add-a404-8ff069cbea93",
   "metadata": {},
   "outputs": [],
   "source": [
    "df = df.drop(columns=[\"date\",\"lights\"])"
   ]
  },
  {
   "cell_type": "code",
   "execution_count": 58,
   "id": "e6240695-8254-48e4-9588-2d797ad19130",
   "metadata": {},
   "outputs": [],
   "source": [
    "reg_df = df[[\"T2\",\"T6\"]].sample(15, random_state =70)\n",
    "reg_df1 = df[[\"T2\",\"Appliances\"]].sample(15, random_state = 60)\n",
    "reg_df2 = df[[\"T6\",\"Appliances\"]].sample(15, random_state = 42)"
   ]
  },
  {
   "cell_type": "code",
   "execution_count": 59,
   "id": "9ba5ced9-4cb6-4b44-8ed9-e297ed3f85c7",
   "metadata": {},
   "outputs": [
    {
     "data": {
      "text/plain": [
       "<AxesSubplot:xlabel='T2', ylabel='T6'>"
      ]
     },
     "execution_count": 59,
     "metadata": {},
     "output_type": "execute_result"
    },
    {
     "data": {
      "image/png": "[encoded data removed]",
      "text/plain": [
       "<Figure size 432x288 with 1 Axes>"
      ]
     },
     "metadata": {
      "needs_background": "light"
     },
     "output_type": "display_data"
    }
   ],
   "source": [
    "sns.regplot(x=\"T2\", y=\"T6\", data=reg_df)"
   ]
  },
  {
   "cell_type": "code",
   "execution_count": 60,
   "id": "6aba1a95-c0f8-4bd8-82a5-f03fe47a1628",
   "metadata": {},
   "outputs": [
    {
     "data": {
      "text/plain": [
       "<AxesSubplot:xlabel='T2', ylabel='Appliances'>"
      ]
     },
     "execution_count": 60,
     "metadata": {},
     "output_type": "execute_result"
    },
    {
     "data": {
      "image/png": "[encoded data removed]",
      "text/plain": [
       "<Figure size 432x288 with 1 Axes>"
      ]
     },
     "metadata": {
      "needs_background": "light"
     },
     "output_type": "display_data"
    }
   ],
   "source": [
    "sns.regplot(x=\"T2\", y=\"Appliances\", data=reg_df1)"
   ]
  },
  {
   "cell_type": "code",
   "execution_count": 61,
   "id": "230d6dfd-76f5-49d3-84cb-dfd910492e9b",
   "metadata": {},
   "outputs": [
    {
     "data": {
      "text/plain": [
       "<AxesSubplot:xlabel='T6', ylabel='Appliances'>"
      ]
     },
     "execution_count": 61,
     "metadata": {},
     "output_type": "execute_result"
    },
    {
     "data": {
      "image/png": "[encoded data removed]",
      "text/plain": [
       "<Figure size 432x288 with 1 Axes>"
      ]
     },
     "metadata": {
      "needs_background": "light"
     },
     "output_type": "display_data"
    }
   ],
   "source": [
    "sns.regplot(x=\"T6\", y=\"Appliances\", data=reg_df2)"
   ]
  },
  {
   "cell_type": "code",
   "execution_count": null,
   "id": "5a84875e-25ad-4d36-81b9-b669f1b397a6",
   "metadata": {},
   "outputs": [],
   "source": []
  },
  {
   "cell_type": "code",
   "execution_count": 62,
   "id": "1a9c40af-3ded-4c65-a710-432fdb76f2ef",
   "metadata": {},
   "outputs": [],
   "source": [
    "refined_df = pd.DataFrame(scaling.fit_transform(df), columns=df.columns)"
   ]
  },
  {
   "cell_type": "code",
   "execution_count": 63,
   "id": "664376a5-5e83-44d6-93a4-218bf5180e05",
   "metadata": {},
   "outputs": [
    {
     "data": {
      "text/html": [
       "<div>\n",
       "<style scoped>\n",
       "    .dataframe tbody tr th:only-of-type {\n",
       "        vertical-align: middle;\n",
       "    }\n",
       "\n",
       "    .dataframe tbody tr th {\n",
       "        vertical-align: top;\n",
       "    }\n",
       "\n",
       "    .dataframe thead th {\n",
       "        text-align: right;\n",
       "    }\n",
       "</style>\n",
       "<table border=\"1\" class=\"dataframe\">\n",
       "  <thead>\n",
       "    <tr style=\"text-align: right;\">\n",
       "      <th></th>\n",
       "      <th>Appliances</th>\n",
       "      <th>T1</th>\n",
       "      <th>RH_1</th>\n",
       "      <th>T2</th>\n",
       "      <th>RH_2</th>\n",
       "      <th>T3</th>\n",
       "      <th>RH_3</th>\n",
       "      <th>T4</th>\n",
       "      <th>RH_4</th>\n",
       "      <th>T5</th>\n",
       "      <th>RH_5</th>\n",
       "      <th>T6</th>\n",
       "      <th>RH_6</th>\n",
       "      <th>T7</th>\n",
       "      <th>RH_7</th>\n",
       "      <th>T8</th>\n",
       "      <th>RH_8</th>\n",
       "      <th>T9</th>\n",
       "      <th>RH_9</th>\n",
       "      <th>T_out</th>\n",
       "      <th>Press_mm_hg</th>\n",
       "      <th>RH_out</th>\n",
       "      <th>Windspeed</th>\n",
       "      <th>Visibility</th>\n",
       "      <th>Tdewpoint</th>\n",
       "      <th>rv1</th>\n",
       "      <th>rv2</th>\n",
       "    </tr>\n",
       "  </thead>\n",
       "  <tbody>\n",
       "    <tr>\n",
       "      <th>0</th>\n",
       "      <td>-0.367676</td>\n",
       "      <td>-1.118645</td>\n",
       "      <td>1.843821</td>\n",
       "      <td>-0.520411</td>\n",
       "      <td>1.073683</td>\n",
       "      <td>-1.235063</td>\n",
       "      <td>1.686130</td>\n",
       "      <td>-0.908217</td>\n",
       "      <td>1.506438</td>\n",
       "      <td>-1.314903</td>\n",
       "      <td>0.47116</td>\n",
       "      <td>-0.145196</td>\n",
       "      <td>0.951798</td>\n",
       "      <td>-1.453646</td>\n",
       "      <td>1.219861</td>\n",
       "      <td>-1.957509</td>\n",
       "      <td>1.141572</td>\n",
       "      <td>-1.217324</td>\n",
       "      <td>0.958136</td>\n",
       "      <td>-0.152647</td>\n",
       "      <td>-2.976328</td>\n",
       "      <td>0.82208</td>\n",
       "      <td>1.207694</td>\n",
       "      <td>2.091596</td>\n",
       "      <td>0.366975</td>\n",
       "      <td>-0.807974</td>\n",
       "      <td>-0.807974</td>\n",
       "    </tr>\n",
       "    <tr>\n",
       "      <th>1</th>\n",
       "      <td>-0.367676</td>\n",
       "      <td>-1.118645</td>\n",
       "      <td>1.616807</td>\n",
       "      <td>-0.520411</td>\n",
       "      <td>1.057097</td>\n",
       "      <td>-1.235063</td>\n",
       "      <td>1.704566</td>\n",
       "      <td>-0.908217</td>\n",
       "      <td>1.604528</td>\n",
       "      <td>-1.314903</td>\n",
       "      <td>0.47116</td>\n",
       "      <td>-0.176941</td>\n",
       "      <td>0.945592</td>\n",
       "      <td>-1.453646</td>\n",
       "      <td>1.206825</td>\n",
       "      <td>-1.957509</td>\n",
       "      <td>1.134554</td>\n",
       "      <td>-1.200778</td>\n",
       "      <td>0.965363</td>\n",
       "      <td>-0.174588</td>\n",
       "      <td>-2.962813</td>\n",
       "      <td>0.82208</td>\n",
       "      <td>1.071703</td>\n",
       "      <td>1.766584</td>\n",
       "      <td>0.343135</td>\n",
       "      <td>-0.440240</td>\n",
       "      <td>-0.440240</td>\n",
       "    </tr>\n",
       "  </tbody>\n",
       "</table>\n",
       "</div>"
      ],
      "text/plain": [
       "   Appliances        T1      RH_1        T2      RH_2        T3      RH_3  \\\n",
       "0   -0.367676 -1.118645  1.843821 -0.520411  1.073683 -1.235063  1.686130   \n",
       "1   -0.367676 -1.118645  1.616807 -0.520411  1.057097 -1.235063  1.704566   \n",
       "\n",
       "         T4      RH_4        T5     RH_5        T6      RH_6        T7  \\\n",
       "0 -0.908217  1.506438 -1.314903  0.47116 -0.145196  0.951798 -1.453646   \n",
       "1 -0.908217  1.604528 -1.314903  0.47116 -0.176941  0.945592 -1.453646   \n",
       "\n",
       "       RH_7        T8      RH_8        T9      RH_9     T_out  Press_mm_hg  \\\n",
       "0  1.219861 -1.957509  1.141572 -1.217324  0.958136 -0.152647    -2.976328   \n",
       "1  1.206825 -1.957509  1.134554 -1.200778  0.965363 -0.174588    -2.962813   \n",
       "\n",
       "    RH_out  Windspeed  Visibility  Tdewpoint       rv1       rv2  \n",
       "0  0.82208   1.207694    2.091596   0.366975 -0.807974 -0.807974  \n",
       "1  0.82208   1.071703    1.766584   0.343135 -0.440240 -0.440240  "
      ]
     },
     "execution_count": 63,
     "metadata": {},
     "output_type": "execute_result"
    }
   ],
   "source": [
    "refined_df.head(2)"
   ]
  },
  {
   "cell_type": "code",
   "execution_count": 64,
   "id": "f0cfb497-7a55-43ef-885e-a4393c05cd09",
   "metadata": {},
   "outputs": [],
   "source": [
    "defined_df = refined_df.drop(columns='Appliances')"
   ]
  },
  {
   "cell_type": "code",
   "execution_count": 65,
   "id": "eba9ea5d-5636-44cf-b9dc-a4187bdc7414",
   "metadata": {},
   "outputs": [
    {
     "data": {
      "text/html": [
       "<div>\n",
       "<style scoped>\n",
       "    .dataframe tbody tr th:only-of-type {\n",
       "        vertical-align: middle;\n",
       "    }\n",
       "\n",
       "    .dataframe tbody tr th {\n",
       "        vertical-align: top;\n",
       "    }\n",
       "\n",
       "    .dataframe thead th {\n",
       "        text-align: right;\n",
       "    }\n",
       "</style>\n",
       "<table border=\"1\" class=\"dataframe\">\n",
       "  <thead>\n",
       "    <tr style=\"text-align: right;\">\n",
       "      <th></th>\n",
       "      <th>T1</th>\n",
       "      <th>RH_1</th>\n",
       "      <th>T2</th>\n",
       "      <th>RH_2</th>\n",
       "      <th>T3</th>\n",
       "      <th>RH_3</th>\n",
       "      <th>T4</th>\n",
       "      <th>RH_4</th>\n",
       "      <th>T5</th>\n",
       "      <th>RH_5</th>\n",
       "      <th>T6</th>\n",
       "      <th>RH_6</th>\n",
       "      <th>T7</th>\n",
       "      <th>RH_7</th>\n",
       "      <th>T8</th>\n",
       "      <th>RH_8</th>\n",
       "      <th>T9</th>\n",
       "      <th>RH_9</th>\n",
       "      <th>T_out</th>\n",
       "      <th>Press_mm_hg</th>\n",
       "      <th>RH_out</th>\n",
       "      <th>Windspeed</th>\n",
       "      <th>Visibility</th>\n",
       "      <th>Tdewpoint</th>\n",
       "      <th>rv1</th>\n",
       "      <th>rv2</th>\n",
       "    </tr>\n",
       "  </thead>\n",
       "  <tbody>\n",
       "    <tr>\n",
       "      <th>0</th>\n",
       "      <td>-1.118645</td>\n",
       "      <td>1.843821</td>\n",
       "      <td>-0.520411</td>\n",
       "      <td>1.073683</td>\n",
       "      <td>-1.235063</td>\n",
       "      <td>1.686130</td>\n",
       "      <td>-0.908217</td>\n",
       "      <td>1.506438</td>\n",
       "      <td>-1.314903</td>\n",
       "      <td>0.471160</td>\n",
       "      <td>-0.145196</td>\n",
       "      <td>0.951798</td>\n",
       "      <td>-1.453646</td>\n",
       "      <td>1.219861</td>\n",
       "      <td>-1.957509</td>\n",
       "      <td>1.141572</td>\n",
       "      <td>-1.217324</td>\n",
       "      <td>0.958136</td>\n",
       "      <td>-0.152647</td>\n",
       "      <td>-2.976328</td>\n",
       "      <td>0.82208</td>\n",
       "      <td>1.207694</td>\n",
       "      <td>2.091596</td>\n",
       "      <td>0.366975</td>\n",
       "      <td>-0.807974</td>\n",
       "      <td>-0.807974</td>\n",
       "    </tr>\n",
       "    <tr>\n",
       "      <th>1</th>\n",
       "      <td>-1.118645</td>\n",
       "      <td>1.616807</td>\n",
       "      <td>-0.520411</td>\n",
       "      <td>1.057097</td>\n",
       "      <td>-1.235063</td>\n",
       "      <td>1.704566</td>\n",
       "      <td>-0.908217</td>\n",
       "      <td>1.604528</td>\n",
       "      <td>-1.314903</td>\n",
       "      <td>0.471160</td>\n",
       "      <td>-0.176941</td>\n",
       "      <td>0.945592</td>\n",
       "      <td>-1.453646</td>\n",
       "      <td>1.206825</td>\n",
       "      <td>-1.957509</td>\n",
       "      <td>1.134554</td>\n",
       "      <td>-1.200778</td>\n",
       "      <td>0.965363</td>\n",
       "      <td>-0.174588</td>\n",
       "      <td>-2.962813</td>\n",
       "      <td>0.82208</td>\n",
       "      <td>1.071703</td>\n",
       "      <td>1.766584</td>\n",
       "      <td>0.343135</td>\n",
       "      <td>-0.440240</td>\n",
       "      <td>-0.440240</td>\n",
       "    </tr>\n",
       "    <tr>\n",
       "      <th>2</th>\n",
       "      <td>-1.118645</td>\n",
       "      <td>1.517959</td>\n",
       "      <td>-0.520411</td>\n",
       "      <td>1.033550</td>\n",
       "      <td>-1.235063</td>\n",
       "      <td>1.748608</td>\n",
       "      <td>-0.944115</td>\n",
       "      <td>1.580918</td>\n",
       "      <td>-1.314903</td>\n",
       "      <td>0.458968</td>\n",
       "      <td>-0.221822</td>\n",
       "      <td>0.916484</td>\n",
       "      <td>-1.453646</td>\n",
       "      <td>1.182057</td>\n",
       "      <td>-1.957509</td>\n",
       "      <td>1.109032</td>\n",
       "      <td>-1.233869</td>\n",
       "      <td>0.950910</td>\n",
       "      <td>-0.196529</td>\n",
       "      <td>-2.949298</td>\n",
       "      <td>0.82208</td>\n",
       "      <td>0.935713</td>\n",
       "      <td>1.441572</td>\n",
       "      <td>0.319294</td>\n",
       "      <td>0.252109</td>\n",
       "      <td>0.252109</td>\n",
       "    </tr>\n",
       "    <tr>\n",
       "      <th>3</th>\n",
       "      <td>-1.118645</td>\n",
       "      <td>1.459321</td>\n",
       "      <td>-0.520411</td>\n",
       "      <td>1.024540</td>\n",
       "      <td>-1.235063</td>\n",
       "      <td>1.769092</td>\n",
       "      <td>-0.962063</td>\n",
       "      <td>1.542526</td>\n",
       "      <td>-1.314903</td>\n",
       "      <td>0.458968</td>\n",
       "      <td>-0.242621</td>\n",
       "      <td>0.925045</td>\n",
       "      <td>-1.485243</td>\n",
       "      <td>1.154030</td>\n",
       "      <td>-2.008631</td>\n",
       "      <td>1.082233</td>\n",
       "      <td>-1.233869</td>\n",
       "      <td>0.926821</td>\n",
       "      <td>-0.218470</td>\n",
       "      <td>-2.935783</td>\n",
       "      <td>0.82208</td>\n",
       "      <td>0.799723</td>\n",
       "      <td>1.116559</td>\n",
       "      <td>0.295454</td>\n",
       "      <td>1.408801</td>\n",
       "      <td>1.408801</td>\n",
       "    </tr>\n",
       "    <tr>\n",
       "      <th>4</th>\n",
       "      <td>-1.118645</td>\n",
       "      <td>1.526336</td>\n",
       "      <td>-0.520411</td>\n",
       "      <td>1.009797</td>\n",
       "      <td>-1.235063</td>\n",
       "      <td>1.769092</td>\n",
       "      <td>-0.962063</td>\n",
       "      <td>1.497991</td>\n",
       "      <td>-1.296832</td>\n",
       "      <td>0.458968</td>\n",
       "      <td>-0.253567</td>\n",
       "      <td>0.972238</td>\n",
       "      <td>-1.453646</td>\n",
       "      <td>1.142298</td>\n",
       "      <td>-2.008631</td>\n",
       "      <td>1.082233</td>\n",
       "      <td>-1.233869</td>\n",
       "      <td>0.926821</td>\n",
       "      <td>-0.240411</td>\n",
       "      <td>-2.922268</td>\n",
       "      <td>0.82208</td>\n",
       "      <td>0.663733</td>\n",
       "      <td>0.791547</td>\n",
       "      <td>0.271613</td>\n",
       "      <td>-1.028122</td>\n",
       "      <td>-1.028122</td>\n",
       "    </tr>\n",
       "  </tbody>\n",
       "</table>\n",
       "</div>"
      ],
      "text/plain": [
       "         T1      RH_1        T2      RH_2        T3      RH_3        T4  \\\n",
       "0 -1.118645  1.843821 -0.520411  1.073683 -1.235063  1.686130 -0.908217   \n",
       "1 -1.118645  1.616807 -0.520411  1.057097 -1.235063  1.704566 -0.908217   \n",
       "2 -1.118645  1.517959 -0.520411  1.033550 -1.235063  1.748608 -0.944115   \n",
       "3 -1.118645  1.459321 -0.520411  1.024540 -1.235063  1.769092 -0.962063   \n",
       "4 -1.118645  1.526336 -0.520411  1.009797 -1.235063  1.769092 -0.962063   \n",
       "\n",
       "       RH_4        T5      RH_5        T6      RH_6        T7      RH_7  \\\n",
       "0  1.506438 -1.314903  0.471160 -0.145196  0.951798 -1.453646  1.219861   \n",
       "1  1.604528 -1.314903  0.471160 -0.176941  0.945592 -1.453646  1.206825   \n",
       "2  1.580918 -1.314903  0.458968 -0.221822  0.916484 -1.453646  1.182057   \n",
       "3  1.542526 -1.314903  0.458968 -0.242621  0.925045 -1.485243  1.154030   \n",
       "4  1.497991 -1.296832  0.458968 -0.253567  0.972238 -1.453646  1.142298   \n",
       "\n",
       "         T8      RH_8        T9      RH_9     T_out  Press_mm_hg   RH_out  \\\n",
       "0 -1.957509  1.141572 -1.217324  0.958136 -0.152647    -2.976328  0.82208   \n",
       "1 -1.957509  1.134554 -1.200778  0.965363 -0.174588    -2.962813  0.82208   \n",
       "2 -1.957509  1.109032 -1.233869  0.950910 -0.196529    -2.949298  0.82208   \n",
       "3 -2.008631  1.082233 -1.233869  0.926821 -0.218470    -2.935783  0.82208   \n",
       "4 -2.008631  1.082233 -1.233869  0.926821 -0.240411    -2.922268  0.82208   \n",
       "\n",
       "   Windspeed  Visibility  Tdewpoint       rv1       rv2  \n",
       "0   1.207694    2.091596   0.366975 -0.807974 -0.807974  \n",
       "1   1.071703    1.766584   0.343135 -0.440240 -0.440240  \n",
       "2   0.935713    1.441572   0.319294  0.252109  0.252109  \n",
       "3   0.799723    1.116559   0.295454  1.408801  1.408801  \n",
       "4   0.663733    0.791547   0.271613 -1.028122 -1.028122  "
      ]
     },
     "execution_count": 65,
     "metadata": {},
     "output_type": "execute_result"
    }
   ],
   "source": [
    "defined_df.head()"
   ]
  },
  {
   "cell_type": "code",
   "execution_count": 66,
   "id": "40c9d2e1-d3e9-45d3-b1d5-c93448a63750",
   "metadata": {},
   "outputs": [],
   "source": [
    "dropped_df = refined_df.Appliances"
   ]
  },
  {
   "cell_type": "code",
   "execution_count": 67,
   "id": "bb4c779b-72fe-4675-95a4-5d529d94c213",
   "metadata": {},
   "outputs": [
    {
     "data": {
      "text/plain": [
       "0       -0.367676\n",
       "1       -0.367676\n",
       "2       -0.465215\n",
       "3       -0.465215\n",
       "4       -0.367676\n",
       "           ...   \n",
       "19730    0.022483\n",
       "19731   -0.075056\n",
       "19732    1.680659\n",
       "19733    3.143756\n",
       "19734    3.241295\n",
       "Name: Appliances, Length: 19735, dtype: float64"
      ]
     },
     "execution_count": 67,
     "metadata": {},
     "output_type": "execute_result"
    }
   ],
   "source": [
    "dropped_df"
   ]
  },
  {
   "cell_type": "code",
   "execution_count": 68,
   "id": "1d721488-f065-47e4-9f44-de5f2418ce06",
   "metadata": {},
   "outputs": [],
   "source": [
    "x_train, x_test, y_train, y_test = split(defined_df.T2.values.reshape(-1,1),defined_df.T6, test_size=.3,random_state=35)"
   ]
  },
  {
   "cell_type": "code",
   "execution_count": 69,
   "id": "7fb4ad36-267d-471c-9617-aac28b50c690",
   "metadata": {},
   "outputs": [],
   "source": [
    "modelling = LRN.fit(x_train,y_train)"
   ]
  },
  {
   "cell_type": "code",
   "execution_count": 70,
   "id": "7a337a3e-b732-485e-9344-ec558841c88c",
   "metadata": {},
   "outputs": [
    {
     "data": {
      "text/plain": [
       "LinearRegression()"
      ]
     },
     "execution_count": 70,
     "metadata": {},
     "output_type": "execute_result"
    }
   ],
   "source": [
    "modelling"
   ]
  },
  {
   "cell_type": "code",
   "execution_count": 71,
   "id": "890a0ffa-1264-4c31-a170-711b034d5dfd",
   "metadata": {},
   "outputs": [],
   "source": [
    "pred_values = LRN.predict(x_test)"
   ]
  },
  {
   "cell_type": "code",
   "execution_count": 72,
   "id": "0a5665a5-f93e-4d78-8e5c-c6e782a40075",
   "metadata": {},
   "outputs": [
    {
     "data": {
      "text/plain": [
       "0.6501545210343389"
      ]
     },
     "execution_count": 72,
     "metadata": {},
     "output_type": "execute_result"
    }
   ],
   "source": [
    "LRN.score(x_test,y_test)"
   ]
  },
  {
   "cell_type": "code",
   "execution_count": 73,
   "id": "c40521af-20c4-4cfa-9598-2b6aa2bbef31",
   "metadata": {},
   "outputs": [
    {
     "data": {
      "text/plain": [
       "0.4578502714413991"
      ]
     },
     "execution_count": 73,
     "metadata": {},
     "output_type": "execute_result"
    }
   ],
   "source": [
    "mae = MAE(y_test,pred_values)\n",
    "mae"
   ]
  },
  {
   "cell_type": "code",
   "execution_count": 74,
   "id": "0a100808-725b-4a0f-8f45-bcb02e354f09",
   "metadata": {},
   "outputs": [
    {
     "data": {
      "text/plain": [
       "0.5915977326358178"
      ]
     },
     "execution_count": 74,
     "metadata": {},
     "output_type": "execute_result"
    }
   ],
   "source": [
    "rmse = np.sqrt(MSE(y_test,pred_values))\n",
    "rmse"
   ]
  },
  {
   "cell_type": "code",
   "execution_count": 75,
   "id": "8e2be060-d7aa-499c-9403-f945c8edad5b",
   "metadata": {},
   "outputs": [
    {
     "data": {
      "text/plain": [
       "0.6501545210343389"
      ]
     },
     "execution_count": 75,
     "metadata": {},
     "output_type": "execute_result"
    }
   ],
   "source": [
    "r2 = R2(y_test,pred_values)\n",
    "r2"
   ]
  },
  {
   "cell_type": "code",
   "execution_count": 76,
   "id": "7495d370-60ef-4502-8334-68b995cd6a00",
   "metadata": {},
   "outputs": [
    {
     "data": {
      "text/plain": [
       "0.6501545210343389"
      ]
     },
     "execution_count": 76,
     "metadata": {},
     "output_type": "execute_result"
    }
   ],
   "source": [
    "coefficient = metrics.r2_score(y_test,pred_values)\n",
    "coefficient"
   ]
  },
  {
   "cell_type": "code",
   "execution_count": 77,
   "id": "294303ce-3830-43f3-95ba-4ded2ff0a129",
   "metadata": {},
   "outputs": [
    {
     "data": {
      "text/plain": [
       "LinearRegression()"
      ]
     },
     "execution_count": 77,
     "metadata": {},
     "output_type": "execute_result"
    }
   ],
   "source": [
    "defined_df = refined_df.drop(columns='Appliances')\n",
    "dropped_df = refined_df.Appliances\n",
    "x1_train, x1_test, y1_train, y1_test = split(defined_df, dropped_df, test_size=0.3, random_state=42)\n",
    "LM1 = LinearRegression()\n",
    "LM1.fit(x1_train, y1_train)"
   ]
  },
  {
   "cell_type": "code",
   "execution_count": 78,
   "id": "3eb546f1-e6e8-497b-93d3-5ec66cff8610",
   "metadata": {},
   "outputs": [
    {
     "data": {
      "text/plain": [
       "Ridge(alpha=0.4)"
      ]
     },
     "execution_count": 78,
     "metadata": {},
     "output_type": "execute_result"
    }
   ],
   "source": [
    "ridge.fit(x1_train, y1_train)"
   ]
  },
  {
   "cell_type": "code",
   "execution_count": 79,
   "id": "30f6ce41-d040-4dec-909e-dbdf1cc3d07d",
   "metadata": {},
   "outputs": [
    {
     "data": {
      "text/plain": [
       "Lasso(alpha=0.001)"
      ]
     },
     "execution_count": 79,
     "metadata": {},
     "output_type": "execute_result"
    }
   ],
   "source": [
    "lasso.fit(x1_train,y1_train)"
   ]
  },
  {
   "cell_type": "code",
   "execution_count": 80,
   "id": "d13806df-562b-494a-ad63-d01646566469",
   "metadata": {},
   "outputs": [],
   "source": [
    "predicted_val = LM1.predict(x1_test)"
   ]
  },
  {
   "cell_type": "code",
   "execution_count": 81,
   "id": "41a49406-9e12-49b5-8162-87392c3d2dd2",
   "metadata": {},
   "outputs": [],
   "source": [
    "def get_weights_df(model, feat, col_name):\n",
    "    weights = pd.Series(model.coef_, feat.columns).sort_values()\n",
    "    weights_df = pd.DataFrame(weights).reset_index()\n",
    "    weights_df.columns = [\"Features\", col_name]\n",
    "    weights_df[col_name].round(3)\n",
    "    return weights_df"
   ]
  },
  {
   "cell_type": "code",
   "execution_count": 82,
   "id": "5b9ed72b-e045-4b90-bd75-673ba3f32807",
   "metadata": {},
   "outputs": [
    {
     "data": {
      "text/html": [
       "<div>\n",
       "<style scoped>\n",
       "    .dataframe tbody tr th:only-of-type {\n",
       "        vertical-align: middle;\n",
       "    }\n",
       "\n",
       "    .dataframe tbody tr th {\n",
       "        vertical-align: top;\n",
       "    }\n",
       "\n",
       "    .dataframe thead th {\n",
       "        text-align: right;\n",
       "    }\n",
       "</style>\n",
       "<table border=\"1\" class=\"dataframe\">\n",
       "  <thead>\n",
       "    <tr style=\"text-align: right;\">\n",
       "      <th></th>\n",
       "      <th>Features</th>\n",
       "      <th>Linear_Model_Weight</th>\n",
       "    </tr>\n",
       "  </thead>\n",
       "  <tbody>\n",
       "    <tr>\n",
       "      <th>0</th>\n",
       "      <td>T_out</td>\n",
       "      <td>-0.574329</td>\n",
       "    </tr>\n",
       "    <tr>\n",
       "      <th>1</th>\n",
       "      <td>RH_2</td>\n",
       "      <td>-0.545451</td>\n",
       "    </tr>\n",
       "    <tr>\n",
       "      <th>2</th>\n",
       "      <td>T9</td>\n",
       "      <td>-0.415587</td>\n",
       "    </tr>\n",
       "    <tr>\n",
       "      <th>3</th>\n",
       "      <td>T2</td>\n",
       "      <td>-0.392929</td>\n",
       "    </tr>\n",
       "    <tr>\n",
       "      <th>4</th>\n",
       "      <td>RH_8</td>\n",
       "      <td>-0.294473</td>\n",
       "    </tr>\n",
       "    <tr>\n",
       "      <th>5</th>\n",
       "      <td>RH_out</td>\n",
       "      <td>-0.158934</td>\n",
       "    </tr>\n",
       "    <tr>\n",
       "      <th>6</th>\n",
       "      <td>RH_7</td>\n",
       "      <td>-0.084441</td>\n",
       "    </tr>\n",
       "    <tr>\n",
       "      <th>7</th>\n",
       "      <td>RH_9</td>\n",
       "      <td>-0.071375</td>\n",
       "    </tr>\n",
       "    <tr>\n",
       "      <th>8</th>\n",
       "      <td>T5</td>\n",
       "      <td>-0.028802</td>\n",
       "    </tr>\n",
       "    <tr>\n",
       "      <th>9</th>\n",
       "      <td>T1</td>\n",
       "      <td>-0.005807</td>\n",
       "    </tr>\n",
       "    <tr>\n",
       "      <th>10</th>\n",
       "      <td>rv2</td>\n",
       "      <td>0.002331</td>\n",
       "    </tr>\n",
       "    <tr>\n",
       "      <th>11</th>\n",
       "      <td>rv1</td>\n",
       "      <td>0.002331</td>\n",
       "    </tr>\n",
       "    <tr>\n",
       "      <th>12</th>\n",
       "      <td>Press_mm_hg</td>\n",
       "      <td>0.012283</td>\n",
       "    </tr>\n",
       "    <tr>\n",
       "      <th>13</th>\n",
       "      <td>T7</td>\n",
       "      <td>0.021416</td>\n",
       "    </tr>\n",
       "    <tr>\n",
       "      <th>14</th>\n",
       "      <td>RH_5</td>\n",
       "      <td>0.022661</td>\n",
       "    </tr>\n",
       "    <tr>\n",
       "      <th>15</th>\n",
       "      <td>Visibility</td>\n",
       "      <td>0.023306</td>\n",
       "    </tr>\n",
       "    <tr>\n",
       "      <th>16</th>\n",
       "      <td>RH_4</td>\n",
       "      <td>0.051024</td>\n",
       "    </tr>\n",
       "    <tr>\n",
       "      <th>17</th>\n",
       "      <td>Windspeed</td>\n",
       "      <td>0.053326</td>\n",
       "    </tr>\n",
       "    <tr>\n",
       "      <th>18</th>\n",
       "      <td>T4</td>\n",
       "      <td>0.055666</td>\n",
       "    </tr>\n",
       "    <tr>\n",
       "      <th>19</th>\n",
       "      <td>RH_6</td>\n",
       "      <td>0.125070</td>\n",
       "    </tr>\n",
       "    <tr>\n",
       "      <th>20</th>\n",
       "      <td>RH_3</td>\n",
       "      <td>0.152473</td>\n",
       "    </tr>\n",
       "    <tr>\n",
       "      <th>21</th>\n",
       "      <td>T8</td>\n",
       "      <td>0.190626</td>\n",
       "    </tr>\n",
       "    <tr>\n",
       "      <th>22</th>\n",
       "      <td>Tdewpoint</td>\n",
       "      <td>0.233264</td>\n",
       "    </tr>\n",
       "    <tr>\n",
       "      <th>23</th>\n",
       "      <td>T6</td>\n",
       "      <td>0.437421</td>\n",
       "    </tr>\n",
       "    <tr>\n",
       "      <th>24</th>\n",
       "      <td>T3</td>\n",
       "      <td>0.505549</td>\n",
       "    </tr>\n",
       "    <tr>\n",
       "      <th>25</th>\n",
       "      <td>RH_1</td>\n",
       "      <td>0.632660</td>\n",
       "    </tr>\n",
       "  </tbody>\n",
       "</table>\n",
       "</div>"
      ],
      "text/plain": [
       "       Features  Linear_Model_Weight\n",
       "0         T_out            -0.574329\n",
       "1          RH_2            -0.545451\n",
       "2            T9            -0.415587\n",
       "3            T2            -0.392929\n",
       "4          RH_8            -0.294473\n",
       "5        RH_out            -0.158934\n",
       "6          RH_7            -0.084441\n",
       "7          RH_9            -0.071375\n",
       "8            T5            -0.028802\n",
       "9            T1            -0.005807\n",
       "10          rv2             0.002331\n",
       "11          rv1             0.002331\n",
       "12  Press_mm_hg             0.012283\n",
       "13           T7             0.021416\n",
       "14         RH_5             0.022661\n",
       "15   Visibility             0.023306\n",
       "16         RH_4             0.051024\n",
       "17    Windspeed             0.053326\n",
       "18           T4             0.055666\n",
       "19         RH_6             0.125070\n",
       "20         RH_3             0.152473\n",
       "21           T8             0.190626\n",
       "22    Tdewpoint             0.233264\n",
       "23           T6             0.437421\n",
       "24           T3             0.505549\n",
       "25         RH_1             0.632660"
      ]
     },
     "execution_count": 82,
     "metadata": {},
     "output_type": "execute_result"
    }
   ],
   "source": [
    "linear_model = get_weights_df(LM1, x1_train , 'Linear_Model_Weight')\n",
    "linear_model.sort_values(by='Linear_Model_Weight', ascending=True)"
   ]
  },
  {
   "cell_type": "code",
   "execution_count": 83,
   "id": "e73d38c3-5cca-4fb0-914c-b9f094d64306",
   "metadata": {},
   "outputs": [
    {
     "data": {
      "text/plain": [
       "Ridge(alpha=0.4)"
      ]
     },
     "execution_count": 83,
     "metadata": {},
     "output_type": "execute_result"
    }
   ],
   "source": [
    "ridge_reg = Ridge(alpha=0.4)\n",
    "ridge_reg.fit(x1_train, y1_train)"
   ]
  },
  {
   "cell_type": "code",
   "execution_count": 84,
   "id": "4af01e3e-8b1d-471c-90cc-c79eb61c1c19",
   "metadata": {},
   "outputs": [
    {
     "data": {
      "text/plain": [
       "Lasso(alpha=0.001)"
      ]
     },
     "execution_count": 84,
     "metadata": {},
     "output_type": "execute_result"
    }
   ],
   "source": [
    "lasso_reg = Lasso(alpha=0.001)\n",
    "lasso_reg.fit(x1_train, y1_train)"
   ]
  },
  {
   "cell_type": "code",
   "execution_count": 85,
   "id": "b7990b5c-e9ab-437c-b8a1-e0282e57bd62",
   "metadata": {},
   "outputs": [],
   "source": [
    "predicted_values = ridge_reg.predict(x1_test)"
   ]
  },
  {
   "cell_type": "code",
   "execution_count": 86,
   "id": "f21d0607-d481-44c0-af8c-cc42186b2ee4",
   "metadata": {},
   "outputs": [],
   "source": [
    "RMSE_ridge = round(np.sqrt(metrics.mean_squared_error(y1_test, predicted_values)),3)\n",
    "RMSE_linear = round(np.sqrt(metrics.mean_squared_error(y1_test, predicted_val)),3)"
   ]
  },
  {
   "cell_type": "code",
   "execution_count": 87,
   "id": "8f483598-60aa-4269-a371-b8ede231d648",
   "metadata": {},
   "outputs": [
    {
     "data": {
      "text/plain": [
       "0.913"
      ]
     },
     "execution_count": 87,
     "metadata": {},
     "output_type": "execute_result"
    }
   ],
   "source": [
    "RMSE_ridge"
   ]
  },
  {
   "cell_type": "code",
   "execution_count": 88,
   "id": "a5877f69-3912-47fa-b935-d509a728a522",
   "metadata": {},
   "outputs": [
    {
     "data": {
      "text/plain": [
       "0.913"
      ]
     },
     "execution_count": 88,
     "metadata": {},
     "output_type": "execute_result"
    }
   ],
   "source": [
    "RMSE_linear"
   ]
  },
  {
   "cell_type": "code",
   "execution_count": 89,
   "id": "7924562c-f7c5-40e0-a28f-c55a0e15877b",
   "metadata": {},
   "outputs": [
    {
     "data": {
      "text/plain": [
       "Features               24\n",
       "Lasso_Model_Weights    24\n",
       "dtype: int64"
      ]
     },
     "execution_count": 89,
     "metadata": {},
     "output_type": "execute_result"
    }
   ],
   "source": [
    "lasso_weights = get_weights_df(lasso_reg, x1_train,\"Lasso_Model_Weights\")\n",
    "lasso_weights[(lasso_weights[\"Lasso_Model_Weights\"] < 0) | (lasso_weights[\"Lasso_Model_Weights\"] > 0)].count()"
   ]
  },
  {
   "cell_type": "code",
   "execution_count": 90,
   "id": "b485abf0-29d0-4d9b-a650-b2b62c354327",
   "metadata": {},
   "outputs": [],
   "source": [
    "predict1 = lasso_reg.predict(x1_test)\n",
    "RMSE_lasso = round(np.sqrt(metrics.mean_squared_error(y1_test, predict1)),3)"
   ]
  },
  {
   "cell_type": "code",
   "execution_count": 91,
   "id": "468633d3-e8d5-481c-9990-716e32279059",
   "metadata": {},
   "outputs": [
    {
     "data": {
      "text/plain": [
       "0.914"
      ]
     },
     "execution_count": 91,
     "metadata": {},
     "output_type": "execute_result"
    }
   ],
   "source": [
    "RMSE_lasso"
   ]
  }
 ],
 "metadata": {
  "kernelspec": {
   "display_name": "Python 3",
   "language": "python",
   "name": "python3"
  },
  "language_info": {
   "codemirror_mode": {
    "name": "ipython",
    "version": 3
   },
   "file_extension": ".py",
   "mimetype": "text/x-python",
   "name": "python",
   "nbconvert_exporter": "python",
   "pygments_lexer": "ipython3",
   "version": "3.8.8"
  }
 },
 "nbformat": 4,
 "nbformat_minor": 5
}
